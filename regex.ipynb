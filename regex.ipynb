{
 "cells": [
  {
   "cell_type": "markdown",
   "metadata": {},
   "source": [
    "# Exercise: Regular Expressions"
   ]
  },
  {
   "cell_type": "code",
   "execution_count": 1,
   "metadata": {},
   "outputs": [],
   "source": [
    "import re"
   ]
  },
  {
   "cell_type": "code",
   "execution_count": 2,
   "metadata": {},
   "outputs": [
    {
     "name": "stdout",
     "output_type": "stream",
     "text": [
      "Username: john\n",
      "Mailserver: email\n",
      "Domain: com\n",
      "\n",
      "Username: mary\n",
      "Mailserver: otherplace\n",
      "Domain: net\n",
      "\n",
      "Username: support\n",
      "Mailserver: ourcompany\n",
      "Domain: co\n",
      "\n"
     ]
    }
   ],
   "source": [
    "#1 Question: Match all email addresses (SOLVED)\n",
    "\n",
    "inputs = [\"My email is john@email.com and mary@otherplace.net\", \n",
    "          \"Visit us at support@ourcompany.co.uk for help\",\n",
    "          \"No emails here\"]\n",
    "\n",
    "pattern = r\"(\\w+)@(\\w+)\\.(\\w+)\"\n",
    "\n",
    "matches = []\n",
    "for input in inputs:\n",
    "    matches += re.findall(pattern, input)\n",
    "\n",
    "for m in matches:\n",
    "    username = m[0]\n",
    "    mailserver = m[1]\n",
    "    domain = m[2]\n",
    "    print(f\"Username: {username}\")\n",
    "    print(f\"Mailserver: {mailserver}\")\n",
    "    print(f\"Domain: {domain}\")\n",
    "    print('')"
   ]
  },
  {
   "cell_type": "code",
   "execution_count": 3,
   "metadata": {},
   "outputs": [
    {
     "data": {
      "text/plain": [
       "['com', 'com', 'co', 'uk']"
      ]
     },
     "execution_count": 3,
     "metadata": {},
     "output_type": "execute_result"
    }
   ],
   "source": [
    "#2 Question: Extract domain from email\n",
    "\n",
    "inputs = [\"john@email.com\", \n",
    "          \"mary+newsletter@gmail.com\",\n",
    "          \"support@ourcompany.co.uk\"]\n",
    "\n",
    "pattern = r\"\\.(\\w+)\"\n",
    "\n",
    "matches = []\n",
    "\n",
    "for input in inputs:\n",
    "    matches += re.findall(pattern, input)\n",
    "    \n",
    "matches"
   ]
  },
  {
   "cell_type": "code",
   "execution_count": 4,
   "metadata": {},
   "outputs": [
    {
     "name": "stdout",
     "output_type": "stream",
     "text": [
      "555-123-4567\n",
      "1 (234) 567-8910\n"
     ]
    }
   ],
   "source": [
    "#3 Question: Validate phone number  \n",
    "\n",
    "inputs = [\"555-123-4567\",  \n",
    "          \"1 (234) 567-8910\",\n",
    "          \"notaphonenumber\"]\n",
    "\n",
    "pattern = r'(1 \\(\\d{3}\\) \\d{3}-\\d{4}|\\d{3}-\\d{3}-\\d{4})'\n",
    "\n",
    "for phone_number in inputs:\n",
    "    matches = re.findall(pattern, phone_number)\n",
    "    for match in matches:\n",
    "        print(match)"
   ]
  },
  {
   "cell_type": "code",
   "execution_count": 5,
   "metadata": {},
   "outputs": [
    {
     "data": {
      "text/plain": [
       "['(555)', '(234)']"
      ]
     },
     "execution_count": 5,
     "metadata": {},
     "output_type": "execute_result"
    }
   ],
   "source": [
    "#4 Question: Extract area code    \n",
    "\n",
    "inputs = [\"(555) 123-4567\",\n",
    "          \"1 (234) 567-8910\",\n",
    "          \"5551234567\"]\n",
    "\n",
    "pattern = r\"\\(\\d*?\\)\"\n",
    "matches = []\n",
    "for input in inputs:\n",
    "        matches += re.findall(pattern, input)\n",
    "matches"
   ]
  },
  {
   "cell_type": "code",
   "execution_count": 6,
   "metadata": {},
   "outputs": [
    {
     "name": "stdout",
     "output_type": "stream",
     "text": [
      "\n",
      "example.com\n",
      "example.com\n"
     ]
    }
   ],
   "source": [
    "#5 Question: Match URLs and extract host\n",
    "\n",
    "inputs = [\"Visit https://www.example.com for more info\",\n",
    "          \"Our website is example.com\",\n",
    "          \"No URLs here\"]\n",
    "          \n",
    "url_pattern = r'https?://(?:www\\.)?|([\\w.-]+\\.\\w{2,3})'\n",
    "\n",
    "for text in inputs:\n",
    "    matches = re.findall(url_pattern, text)\n",
    "    for match in matches:\n",
    "        print(match)\n"
   ]
  },
  {
   "cell_type": "code",
   "execution_count": 7,
   "metadata": {},
   "outputs": [
    {
     "name": "stdout",
     "output_type": "stream",
     "text": [
      "Hello world \n",
      "    Main St \n",
      "greetings more\n"
     ]
    }
   ],
   "source": [
    "#6 Question: Remove non-alphabetic characters\n",
    "\n",
    "inputs = [\"Hello world!\",\n",
    "          \"123 Main St.\", \n",
    "          \"greetings&more\"]\n",
    "\n",
    "# your code here ...:\n",
    "for text in inputs:\n",
    "    cleaned_text = re.sub(r'[^a-zA-Z\\s]', ' ', text)\n",
    "    print(cleaned_text)"
   ]
  },
  {
   "cell_type": "code",
   "execution_count": 8,
   "metadata": {},
   "outputs": [
    {
     "name": "stdout",
     "output_type": "stream",
     "text": [
      "['station']\n",
      "['tion']\n",
      "['motion', 'activation', 'vacation']\n"
     ]
    }
   ],
   "source": [
    "#7 Question: Find words containing \"tion\" \n",
    "\n",
    "inputs = [\"This is a test sentence with the word station in it.\",\n",
    "          \"No words containing tion here\",\n",
    "          \"motion activation vacation\"]\n",
    "\n",
    "\n",
    "pattern = r'\\b\\w*tion\\w*\\b'\n",
    "\n",
    "for text in inputs:\n",
    "    matches = re.findall(pattern, text)\n",
    "    print(matches)"
   ]
  },
  {
   "cell_type": "code",
   "execution_count": 9,
   "metadata": {},
   "outputs": [
    {
     "name": "stdout",
     "output_type": "stream",
     "text": [
      "goodbye world\n",
      "goodbye there\n",
      "no match\n"
     ]
    }
   ],
   "source": [
    "#8 Question: Replace all occurrences of \"hello\" with \"goodbye\"\n",
    "\n",
    "inputs = [\"hello world\", \n",
    "          \"hello there\",\n",
    "          \"no match\"]\n",
    "\n",
    "for text in inputs:\n",
    "    replaced_text = text.replace(\"hello\", \"goodbye\")\n",
    "    print(replaced_text)"
   ]
  },
  {
   "cell_type": "code",
   "execution_count": 10,
   "metadata": {},
   "outputs": [
    {
     "name": "stdout",
     "output_type": "stream",
     "text": [
      "2023-01-15\n",
      "2023-02-01\n"
     ]
    }
   ],
   "source": [
    "#9 Question: Extract date strings in ISO8601 format\n",
    "\n",
    "inputs = [\"Log from 2023-01-15\",\n",
    "          \"Meeting on 2023-02-01T13:00:00Z\",  \n",
    "          \"No dates\"]\n",
    "\n",
    "pattern = r'\\d{2,4}[-\\/]\\d{2}[-\\/]\\d{2,4}'\n",
    "matches = []\n",
    "for date in inputs:\n",
    "    matches = re.findall(pattern, date)\n",
    "    for match in matches:\n",
    "        print(match)"
   ]
  },
  {
   "cell_type": "code",
   "execution_count": 11,
   "metadata": {},
   "outputs": [
    {
     "name": "stdout",
     "output_type": "stream",
     "text": [
      "2023-01-15 is a valid date.\n",
      "02/01/2023 is a valid date.\n",
      "invalid date is not a valid date.\n"
     ]
    }
   ],
   "source": [
    "#10 Question: Validate correctly formatted date\n",
    "\n",
    "inputs = [\"2023-01-15\",\n",
    "          \"02/01/2023\",\n",
    "          \"invalid date\"]\n",
    "\n",
    "pattern = r'\\b\\d{2,4}[-\\/]\\d{2}[-\\/]\\d{2,4}\\b'\n",
    "\n",
    "for date in inputs:\n",
    "    if re.match(pattern, date):\n",
    "        print(f\"{date} is a valid date.\")\n",
    "    else:\n",
    "        print(f\"{date} is not a valid date.\")"
   ]
  },
  {
   "cell_type": "code",
   "execution_count": 12,
   "metadata": {},
   "outputs": [
    {
     "name": "stdout",
     "output_type": "stream",
     "text": [
      "Hello World\n",
      "123-MainSt\n",
      "Hi there\n"
     ]
    }
   ],
   "source": [
    "#11 Question: Remove punctuation except hyphens \n",
    "\n",
    "inputs = [\"Hello! World?\",\n",
    "          \"123-Main_St.\",\n",
    "          \"Hi there.\"]\n",
    "\n",
    "    \n",
    "pattern = r'[^a-zA-Z1-9\\s\\-]'\n",
    "\n",
    "for text in inputs:\n",
    "    cleaned_text = re.sub(pattern, '', text)\n",
    "    print(cleaned_text)"
   ]
  },
  {
   "cell_type": "code",
   "execution_count": 13,
   "metadata": {},
   "outputs": [
    {
     "name": "stdout",
     "output_type": "stream",
     "text": [
      "The word 'Hello' appears 3 times.\n"
     ]
    }
   ],
   "source": [
    "#12 Question: Count occurrences of a word\n",
    "\n",
    "inputs = [\"Hello world. Hello!\", \n",
    "          \"Hello hello world\",\n",
    "          \"no match\"]\n",
    "\n",
    "word_to_count = \"Hello\"\n",
    "word_count = 0\n",
    "\n",
    "for text in inputs:\n",
    "    matches = re.findall(rf'\\b{word_to_count}\\b', text)\n",
    "    word_count += len(matches)\n",
    "\n",
    "print(f\"The word '{word_to_count}' appears {word_count} times.\")"
   ]
  },
  {
   "cell_type": "code",
   "execution_count": 14,
   "metadata": {},
   "outputs": [
    {
     "name": "stdout",
     "output_type": "stream",
     "text": [
      "127.0.0.1\n",
      "192.168.1.1\n"
     ]
    }
   ],
   "source": [
    "#13 Question: Extract IP addresses from log \n",
    "\n",
    "inputs = [\"127.0.0.1 - GET /\",\n",
    "          \"User logged in from 192.168.1.1\",\n",
    "          \"No IPs\"]\n",
    "\n",
    "ip_pattern = r'\\b\\d{1,3}\\.\\d{1,3}\\.\\d{1,3}\\.\\d{1,3}\\b'\n",
    "\n",
    "for log_entry in inputs:\n",
    "    ip_address = re.findall(ip_pattern, log_entry)\n",
    "    for i in ip_address:    \n",
    "        print(i)"
   ]
  },
  {
   "cell_type": "code",
   "execution_count": 15,
   "metadata": {},
   "outputs": [
    {
     "name": "stdout",
     "output_type": "stream",
     "text": [
      "Visa: XXXX-XXXX-XXXX-XXXX\n",
      "My SSN is XXX-XX-XXXX\n",
      "No numbers\n"
     ]
    }
   ],
   "source": [
    "#14 Question: Redact credit card and SSN numbers\n",
    "\n",
    "inputs = [\"Visa: 4111-1111-1111-1111\",\n",
    "          \"My SSN is 111-11-1111\", \n",
    "          \"No numbers\"]\n",
    "\n",
    "for text in inputs:\n",
    "    text = re.sub(r'\\b(?:\\d{4}-?){4}\\b', 'XXXX-XXXX-XXXX-XXXX', text)\n",
    "    text = re.sub(r'\\b\\d{3}-\\d{2}-\\d{4}\\b', 'XXX-XX-XXXX', text)\n",
    "    print(text)"
   ]
  }
 ],
 "metadata": {
  "kernelspec": {
   "display_name": "Python 3 (ipykernel)",
   "language": "python",
   "name": "python3"
  },
  "language_info": {
   "codemirror_mode": {
    "name": "ipython",
    "version": 3
   },
   "file_extension": ".py",
   "mimetype": "text/x-python",
   "name": "python",
   "nbconvert_exporter": "python",
   "pygments_lexer": "ipython3",
   "version": "3.9.18"
  }
 },
 "nbformat": 4,
 "nbformat_minor": 4
}
